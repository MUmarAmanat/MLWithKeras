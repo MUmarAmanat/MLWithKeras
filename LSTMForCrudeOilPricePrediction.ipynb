{
 "cells": [
  {
   "cell_type": "markdown",
   "metadata": {},
   "source": [
    "## This notebook is for demonstration of building stateful LSTM in Keras\n",
    "#### This Notebook have successfully tested on IBM DataScience Experience "
   ]
  },
  {
   "cell_type": "code",
   "execution_count": 1,
   "metadata": {},
   "outputs": [
    {
     "name": "stderr",
     "output_type": "stream",
     "text": [
      "/home/umcr7/ml/env/lib/python3.6/site-packages/h5py/__init__.py:36: FutureWarning: Conversion of the second argument of issubdtype from `float` to `np.floating` is deprecated. In future, it will be treated as `np.float64 == np.dtype(float).type`.\n",
      "  from ._conv import register_converters as _register_converters\n",
      "Using TensorFlow backend.\n"
     ]
    }
   ],
   "source": [
    "import numpy as np\n",
    "import pandas as pd\n",
    "from keras.preprocessing import sequence\n",
    "from keras.models import load_model"
   ]
  },
  {
   "cell_type": "code",
   "execution_count": 2,
   "metadata": {},
   "outputs": [
    {
     "data": {
      "text/html": [
       "<div>\n",
       "<style scoped>\n",
       "    .dataframe tbody tr th:only-of-type {\n",
       "        vertical-align: middle;\n",
       "    }\n",
       "\n",
       "    .dataframe tbody tr th {\n",
       "        vertical-align: top;\n",
       "    }\n",
       "\n",
       "    .dataframe thead th {\n",
       "        text-align: right;\n",
       "    }\n",
       "</style>\n",
       "<table border=\"1\" class=\"dataframe\">\n",
       "  <thead>\n",
       "    <tr style=\"text-align: right;\">\n",
       "      <th></th>\n",
       "      <th>DATE</th>\n",
       "      <th>DCOILBRENTEU</th>\n",
       "    </tr>\n",
       "  </thead>\n",
       "  <tbody>\n",
       "    <tr>\n",
       "      <th>0</th>\n",
       "      <td>1987-05-20</td>\n",
       "      <td>18.63</td>\n",
       "    </tr>\n",
       "    <tr>\n",
       "      <th>1</th>\n",
       "      <td>1987-05-21</td>\n",
       "      <td>18.45</td>\n",
       "    </tr>\n",
       "    <tr>\n",
       "      <th>2</th>\n",
       "      <td>1987-05-22</td>\n",
       "      <td>18.55</td>\n",
       "    </tr>\n",
       "    <tr>\n",
       "      <th>3</th>\n",
       "      <td>1987-05-25</td>\n",
       "      <td>18.60</td>\n",
       "    </tr>\n",
       "    <tr>\n",
       "      <th>4</th>\n",
       "      <td>1987-05-26</td>\n",
       "      <td>18.63</td>\n",
       "    </tr>\n",
       "    <tr>\n",
       "      <th>5</th>\n",
       "      <td>1987-05-27</td>\n",
       "      <td>18.60</td>\n",
       "    </tr>\n",
       "    <tr>\n",
       "      <th>6</th>\n",
       "      <td>1987-05-28</td>\n",
       "      <td>18.60</td>\n",
       "    </tr>\n",
       "    <tr>\n",
       "      <th>7</th>\n",
       "      <td>1987-05-29</td>\n",
       "      <td>18.58</td>\n",
       "    </tr>\n",
       "    <tr>\n",
       "      <th>8</th>\n",
       "      <td>1987-06-01</td>\n",
       "      <td>18.65</td>\n",
       "    </tr>\n",
       "    <tr>\n",
       "      <th>9</th>\n",
       "      <td>1987-06-02</td>\n",
       "      <td>18.68</td>\n",
       "    </tr>\n",
       "    <tr>\n",
       "      <th>10</th>\n",
       "      <td>1987-06-03</td>\n",
       "      <td>18.75</td>\n",
       "    </tr>\n",
       "    <tr>\n",
       "      <th>11</th>\n",
       "      <td>1987-06-04</td>\n",
       "      <td>18.78</td>\n",
       "    </tr>\n",
       "    <tr>\n",
       "      <th>12</th>\n",
       "      <td>1987-06-05</td>\n",
       "      <td>18.65</td>\n",
       "    </tr>\n",
       "    <tr>\n",
       "      <th>13</th>\n",
       "      <td>1987-06-08</td>\n",
       "      <td>18.75</td>\n",
       "    </tr>\n",
       "    <tr>\n",
       "      <th>14</th>\n",
       "      <td>1987-06-09</td>\n",
       "      <td>18.78</td>\n",
       "    </tr>\n",
       "    <tr>\n",
       "      <th>15</th>\n",
       "      <td>1987-06-10</td>\n",
       "      <td>18.78</td>\n",
       "    </tr>\n",
       "    <tr>\n",
       "      <th>16</th>\n",
       "      <td>1987-06-11</td>\n",
       "      <td>18.68</td>\n",
       "    </tr>\n",
       "    <tr>\n",
       "      <th>17</th>\n",
       "      <td>1987-06-12</td>\n",
       "      <td>18.78</td>\n",
       "    </tr>\n",
       "    <tr>\n",
       "      <th>18</th>\n",
       "      <td>1987-06-15</td>\n",
       "      <td>.</td>\n",
       "    </tr>\n",
       "    <tr>\n",
       "      <th>19</th>\n",
       "      <td>1987-06-16</td>\n",
       "      <td>18.90</td>\n",
       "    </tr>\n",
       "    <tr>\n",
       "      <th>20</th>\n",
       "      <td>1987-06-17</td>\n",
       "      <td>19.03</td>\n",
       "    </tr>\n",
       "    <tr>\n",
       "      <th>21</th>\n",
       "      <td>1987-06-18</td>\n",
       "      <td>19.05</td>\n",
       "    </tr>\n",
       "    <tr>\n",
       "      <th>22</th>\n",
       "      <td>1987-06-19</td>\n",
       "      <td>19.05</td>\n",
       "    </tr>\n",
       "    <tr>\n",
       "      <th>23</th>\n",
       "      <td>1987-06-22</td>\n",
       "      <td>19.10</td>\n",
       "    </tr>\n",
       "    <tr>\n",
       "      <th>24</th>\n",
       "      <td>1987-06-23</td>\n",
       "      <td>18.90</td>\n",
       "    </tr>\n",
       "    <tr>\n",
       "      <th>25</th>\n",
       "      <td>1987-06-24</td>\n",
       "      <td>18.75</td>\n",
       "    </tr>\n",
       "    <tr>\n",
       "      <th>26</th>\n",
       "      <td>1987-06-25</td>\n",
       "      <td>18.70</td>\n",
       "    </tr>\n",
       "    <tr>\n",
       "      <th>27</th>\n",
       "      <td>1987-06-26</td>\n",
       "      <td>19.08</td>\n",
       "    </tr>\n",
       "    <tr>\n",
       "      <th>28</th>\n",
       "      <td>1987-06-29</td>\n",
       "      <td>19.15</td>\n",
       "    </tr>\n",
       "    <tr>\n",
       "      <th>29</th>\n",
       "      <td>1987-06-30</td>\n",
       "      <td>19.08</td>\n",
       "    </tr>\n",
       "    <tr>\n",
       "      <th>...</th>\n",
       "      <td>...</td>\n",
       "      <td>...</td>\n",
       "    </tr>\n",
       "    <tr>\n",
       "      <th>7970</th>\n",
       "      <td>2017-12-06</td>\n",
       "      <td>62.25</td>\n",
       "    </tr>\n",
       "    <tr>\n",
       "      <th>7971</th>\n",
       "      <td>2017-12-07</td>\n",
       "      <td>62.37</td>\n",
       "    </tr>\n",
       "    <tr>\n",
       "      <th>7972</th>\n",
       "      <td>2017-12-08</td>\n",
       "      <td>63.86</td>\n",
       "    </tr>\n",
       "    <tr>\n",
       "      <th>7973</th>\n",
       "      <td>2017-12-11</td>\n",
       "      <td>65.62</td>\n",
       "    </tr>\n",
       "    <tr>\n",
       "      <th>7974</th>\n",
       "      <td>2017-12-12</td>\n",
       "      <td>64.96</td>\n",
       "    </tr>\n",
       "    <tr>\n",
       "      <th>7975</th>\n",
       "      <td>2017-12-13</td>\n",
       "      <td>63.66</td>\n",
       "    </tr>\n",
       "    <tr>\n",
       "      <th>7976</th>\n",
       "      <td>2017-12-14</td>\n",
       "      <td>63.72</td>\n",
       "    </tr>\n",
       "    <tr>\n",
       "      <th>7977</th>\n",
       "      <td>2017-12-15</td>\n",
       "      <td>63.81</td>\n",
       "    </tr>\n",
       "    <tr>\n",
       "      <th>7978</th>\n",
       "      <td>2017-12-18</td>\n",
       "      <td>64.45</td>\n",
       "    </tr>\n",
       "    <tr>\n",
       "      <th>7979</th>\n",
       "      <td>2017-12-19</td>\n",
       "      <td>63.69</td>\n",
       "    </tr>\n",
       "    <tr>\n",
       "      <th>7980</th>\n",
       "      <td>2017-12-20</td>\n",
       "      <td>64.43</td>\n",
       "    </tr>\n",
       "    <tr>\n",
       "      <th>7981</th>\n",
       "      <td>2017-12-21</td>\n",
       "      <td>64.64</td>\n",
       "    </tr>\n",
       "    <tr>\n",
       "      <th>7982</th>\n",
       "      <td>2017-12-22</td>\n",
       "      <td>64.61</td>\n",
       "    </tr>\n",
       "    <tr>\n",
       "      <th>7983</th>\n",
       "      <td>2017-12-25</td>\n",
       "      <td>.</td>\n",
       "    </tr>\n",
       "    <tr>\n",
       "      <th>7984</th>\n",
       "      <td>2017-12-26</td>\n",
       "      <td>.</td>\n",
       "    </tr>\n",
       "    <tr>\n",
       "      <th>7985</th>\n",
       "      <td>2017-12-27</td>\n",
       "      <td>66.03</td>\n",
       "    </tr>\n",
       "    <tr>\n",
       "      <th>7986</th>\n",
       "      <td>2017-12-28</td>\n",
       "      <td>66.8</td>\n",
       "    </tr>\n",
       "    <tr>\n",
       "      <th>7987</th>\n",
       "      <td>2017-12-29</td>\n",
       "      <td>66.73</td>\n",
       "    </tr>\n",
       "    <tr>\n",
       "      <th>7988</th>\n",
       "      <td>2018-01-01</td>\n",
       "      <td>.</td>\n",
       "    </tr>\n",
       "    <tr>\n",
       "      <th>7989</th>\n",
       "      <td>2018-01-02</td>\n",
       "      <td>66.65</td>\n",
       "    </tr>\n",
       "    <tr>\n",
       "      <th>7990</th>\n",
       "      <td>2018-01-03</td>\n",
       "      <td>67.85</td>\n",
       "    </tr>\n",
       "    <tr>\n",
       "      <th>7991</th>\n",
       "      <td>2018-01-04</td>\n",
       "      <td>68.73</td>\n",
       "    </tr>\n",
       "    <tr>\n",
       "      <th>7992</th>\n",
       "      <td>2018-01-05</td>\n",
       "      <td>68.01</td>\n",
       "    </tr>\n",
       "    <tr>\n",
       "      <th>7993</th>\n",
       "      <td>2018-01-08</td>\n",
       "      <td>68.48</td>\n",
       "    </tr>\n",
       "    <tr>\n",
       "      <th>7994</th>\n",
       "      <td>2018-01-09</td>\n",
       "      <td>69.08</td>\n",
       "    </tr>\n",
       "    <tr>\n",
       "      <th>7995</th>\n",
       "      <td>2018-01-10</td>\n",
       "      <td>69.79</td>\n",
       "    </tr>\n",
       "    <tr>\n",
       "      <th>7996</th>\n",
       "      <td>2018-01-11</td>\n",
       "      <td>70.36</td>\n",
       "    </tr>\n",
       "    <tr>\n",
       "      <th>7997</th>\n",
       "      <td>2018-01-12</td>\n",
       "      <td>69.64</td>\n",
       "    </tr>\n",
       "    <tr>\n",
       "      <th>7998</th>\n",
       "      <td>2018-01-15</td>\n",
       "      <td>70.31</td>\n",
       "    </tr>\n",
       "    <tr>\n",
       "      <th>7999</th>\n",
       "      <td>2018-01-16</td>\n",
       "      <td>69.4</td>\n",
       "    </tr>\n",
       "  </tbody>\n",
       "</table>\n",
       "<p>8000 rows × 2 columns</p>\n",
       "</div>"
      ],
      "text/plain": [
       "            DATE DCOILBRENTEU\n",
       "0     1987-05-20        18.63\n",
       "1     1987-05-21        18.45\n",
       "2     1987-05-22        18.55\n",
       "3     1987-05-25        18.60\n",
       "4     1987-05-26        18.63\n",
       "5     1987-05-27        18.60\n",
       "6     1987-05-28        18.60\n",
       "7     1987-05-29        18.58\n",
       "8     1987-06-01        18.65\n",
       "9     1987-06-02        18.68\n",
       "10    1987-06-03        18.75\n",
       "11    1987-06-04        18.78\n",
       "12    1987-06-05        18.65\n",
       "13    1987-06-08        18.75\n",
       "14    1987-06-09        18.78\n",
       "15    1987-06-10        18.78\n",
       "16    1987-06-11        18.68\n",
       "17    1987-06-12        18.78\n",
       "18    1987-06-15            .\n",
       "19    1987-06-16        18.90\n",
       "20    1987-06-17        19.03\n",
       "21    1987-06-18        19.05\n",
       "22    1987-06-19        19.05\n",
       "23    1987-06-22        19.10\n",
       "24    1987-06-23        18.90\n",
       "25    1987-06-24        18.75\n",
       "26    1987-06-25        18.70\n",
       "27    1987-06-26        19.08\n",
       "28    1987-06-29        19.15\n",
       "29    1987-06-30        19.08\n",
       "...          ...          ...\n",
       "7970  2017-12-06        62.25\n",
       "7971  2017-12-07        62.37\n",
       "7972  2017-12-08        63.86\n",
       "7973  2017-12-11        65.62\n",
       "7974  2017-12-12        64.96\n",
       "7975  2017-12-13        63.66\n",
       "7976  2017-12-14        63.72\n",
       "7977  2017-12-15        63.81\n",
       "7978  2017-12-18        64.45\n",
       "7979  2017-12-19        63.69\n",
       "7980  2017-12-20        64.43\n",
       "7981  2017-12-21        64.64\n",
       "7982  2017-12-22        64.61\n",
       "7983  2017-12-25            .\n",
       "7984  2017-12-26            .\n",
       "7985  2017-12-27        66.03\n",
       "7986  2017-12-28         66.8\n",
       "7987  2017-12-29        66.73\n",
       "7988  2018-01-01            .\n",
       "7989  2018-01-02        66.65\n",
       "7990  2018-01-03        67.85\n",
       "7991  2018-01-04        68.73\n",
       "7992  2018-01-05        68.01\n",
       "7993  2018-01-08        68.48\n",
       "7994  2018-01-09        69.08\n",
       "7995  2018-01-10        69.79\n",
       "7996  2018-01-11        70.36\n",
       "7997  2018-01-12        69.64\n",
       "7998  2018-01-15        70.31\n",
       "7999  2018-01-16         69.4\n",
       "\n",
       "[8000 rows x 2 columns]"
      ]
     },
     "execution_count": 2,
     "metadata": {},
     "output_type": "execute_result"
    }
   ],
   "source": [
    "df_data_1 = pd.read_csv('crude_oil.csv')\n",
    "df_data_1"
   ]
  },
  {
   "cell_type": "markdown",
   "metadata": {},
   "source": [
    "#### Data Source\n",
    "U.S. Energy Information Administration, Crude Oil Prices: Brent - Europe [DCOILBRENTEU], retrieved from FRED, Federal Reserve Bank of St. Louis; https://fred.stlouisfed.org/series/DCOILBRENTEU, January 10, 2018."
   ]
  },
  {
   "cell_type": "code",
   "execution_count": 3,
   "metadata": {},
   "outputs": [
    {
     "name": "stdout",
     "output_type": "stream",
     "text": [
      "(7783, 2)\n"
     ]
    }
   ],
   "source": [
    "df_data_1 = df_data_1[df_data_1.DCOILBRENTEU != \".\"]\n",
    "print(df_data_1.shape)"
   ]
  },
  {
   "cell_type": "code",
   "execution_count": null,
   "metadata": {},
   "outputs": [],
   "source": [
    "df_data_1_plot = df_data_1['DCOILBRENTEU'].map(lambda x : round(float(x)))\n",
    "df_data_1_plot"
   ]
  },
  {
   "cell_type": "code",
   "execution_count": 8,
   "metadata": {},
   "outputs": [
    {
     "data": {
      "image/png": "[encoded data removed]",
      "text/plain": [
       "<matplotlib.figure.Figure at 0x7f1a51e72208>"
      ]
     },
     "metadata": {},
     "output_type": "display_data"
    }
   ],
   "source": [
    "# # Visualising the Data\n",
    "plt.figure(figsize=(15,10))\n",
    "plt.plot(df_data_1_plot, color = 'red', label = 'Crude Oil Prices')\n",
    "plt.title('Crude Oil Prices Historical Data')\n",
    "plt.xlabel('Time (Days)')\n",
    "plt.ylabel('Crude Oil Prices')\n",
    "plt.ylim([0, 160])\n",
    "plt.legend()\n",
    "plt.show()"
   ]
  },
  {
   "cell_type": "code",
   "execution_count": 26,
   "metadata": {},
   "outputs": [],
   "source": [
    "# defining the batch size and number of epochs\n",
    "batch_size = 64\n",
    "epochs = 20\n",
    "timesteps = 30"
   ]
  },
  {
   "cell_type": "markdown",
   "metadata": {},
   "source": [
    "### Batch-size and trainings-set size\n",
    "With stateful LSTMs the trainings-set size must be divisible without remainder by the batch-size (modulo = 0)"
   ]
  },
  {
   "cell_type": "code",
   "execution_count": 10,
   "metadata": {},
   "outputs": [
    {
     "name": "stdout",
     "output_type": "stream",
     "text": [
      "7783\n",
      "7004.7\n"
     ]
    }
   ],
   "source": [
    "length = len(df_data_1)\n",
    "print (length)\n",
    "length *= 1 - 0.1\n",
    "print (length)"
   ]
  },
  {
   "cell_type": "code",
   "execution_count": 11,
   "metadata": {},
   "outputs": [],
   "source": [
    "def get_train_length(dataset, batch_size, test_percent):\n",
    "    # substract test_percent to be excluded from training, reserved for testset\n",
    "    length = len(dataset)\n",
    "    length *= 1 - test_percent\n",
    "    train_length_values = []\n",
    "    for x in range(int(length) - 100,int(length)): \n",
    "        modulo=x%batch_size\n",
    "        if (modulo == 0):\n",
    "            train_length_values.append(x)\n",
    "            print(x)\n",
    "    return (max(train_length_values))"
   ]
  },
  {
   "cell_type": "code",
   "execution_count": 14,
   "metadata": {},
   "outputs": [
    {
     "name": "stdout",
     "output_type": "stream",
     "text": [
      "6912\n",
      "6976\n",
      "6976\n"
     ]
    }
   ],
   "source": [
    "length = get_train_length(df_data_1, batch_size, 0.1)\n",
    "print(length)"
   ]
  },
  {
   "cell_type": "code",
   "execution_count": 15,
   "metadata": {},
   "outputs": [
    {
     "name": "stdout",
     "output_type": "stream",
     "text": [
      "7036\n"
     ]
    },
    {
     "data": {
      "text/plain": [
       "(7036, 1)"
      ]
     },
     "execution_count": 15,
     "metadata": {},
     "output_type": "execute_result"
    }
   ],
   "source": [
    "#Adding timesteps * 2\n",
    "upper_train = length + timesteps*2\n",
    "print(upper_train)\n",
    "df_data_1_train = df_data_1[0:upper_train]\n",
    "training_set = df_data_1_train.iloc[:,1:2].values\n",
    "training_set.shape"
   ]
  },
  {
   "cell_type": "code",
   "execution_count": 17,
   "metadata": {},
   "outputs": [
    {
     "data": {
      "text/plain": [
       "(7036, 1)"
      ]
     },
     "execution_count": 17,
     "metadata": {},
     "output_type": "execute_result"
    }
   ],
   "source": [
    "# Feature Scaling\n",
    "from sklearn.preprocessing import MinMaxScaler\n",
    "sc = MinMaxScaler(feature_range = (0, 1))\n",
    "training_set_scaled = sc.fit_transform(np.float64(training_set))\n",
    "training_set_scaled.shape"
   ]
  },
  {
   "cell_type": "code",
   "execution_count": 18,
   "metadata": {},
   "outputs": [
    {
     "name": "stdout",
     "output_type": "stream",
     "text": [
      "7006\n",
      "6976\n",
      "6976\n",
      "(6976, 30)\n",
      "(6976, 30)\n"
     ]
    }
   ],
   "source": [
    "X_train = []\n",
    "y_train = []\n",
    "\n",
    "# Creating a data structure with n timesteps\n",
    "\n",
    "print(length + timesteps)\n",
    "for i in range(timesteps, length + timesteps): \n",
    "    X_train.append(training_set_scaled[i-timesteps:i,0])\n",
    "    y_train.append(training_set_scaled[i:i+timesteps,0])\n",
    "\n",
    "print(len(X_train))\n",
    "print(len (y_train))\n",
    "print(np.array(X_train).shape)\n",
    "print(np.array(y_train).shape)"
   ]
  },
  {
   "cell_type": "code",
   "execution_count": 19,
   "metadata": {},
   "outputs": [
    {
     "name": "stdout",
     "output_type": "stream",
     "text": [
      "(6976, 30, 1)\n",
      "(6976, 30, 1)\n"
     ]
    }
   ],
   "source": [
    "#keras lstm take input inform of (batch_size, timestamp, input_dim)\n",
    "# Reshaping\n",
    "X_train, y_train = np.array(X_train), np.array(y_train)\n",
    "X_train = np.reshape(X_train, (X_train.shape[0], X_train.shape[1], 1))\n",
    "y_train = np.reshape(y_train, (y_train.shape[0], y_train.shape[1], 1))\n",
    "print(X_train.shape)\n",
    "print(y_train.shape)"
   ]
  },
  {
   "cell_type": "code",
   "execution_count": 20,
   "metadata": {},
   "outputs": [],
   "source": [
    "# Building the LSTM\n",
    "# Importing the Keras libraries and packages\n",
    "\n",
    "from keras.layers import Dense\n",
    "from keras.layers import Input, LSTM\n",
    "from keras.models import Model\n",
    "import h5py #this import is for saving model"
   ]
  },
  {
   "cell_type": "code",
   "execution_count": 21,
   "metadata": {},
   "outputs": [
    {
     "name": "stdout",
     "output_type": "stream",
     "text": [
      "_________________________________________________________________\n",
      "Layer (type)                 Output Shape              Param #   \n",
      "=================================================================\n",
      "input_1 (InputLayer)         (64, 30, 1)               0         \n",
      "_________________________________________________________________\n",
      "lstm_1 (LSTM)                (64, 30, 10)              480       \n",
      "_________________________________________________________________\n",
      "lstm_2 (LSTM)                (64, 30, 10)              840       \n",
      "_________________________________________________________________\n",
      "dense_1 (Dense)              (64, 30, 1)               11        \n",
      "=================================================================\n",
      "Total params: 1,331\n",
      "Trainable params: 1,331\n",
      "Non-trainable params: 0\n",
      "_________________________________________________________________\n"
     ]
    }
   ],
   "source": [
    "# Initialising the LSTM Model with MAE Loss-Function\n",
    "# Using Functional API\n",
    "\n",
    "inputs_1_mae = Input(batch_shape=(batch_size,timesteps,1))\n",
    "lstm_1_mae = LSTM(10, stateful=True, return_sequences=True)(inputs_1_mae)\n",
    "lstm_2_mae = LSTM(10, stateful=True, return_sequences=True)(lstm_1_mae)\n",
    "\n",
    "output_1_mae = Dense(units = 1)(lstm_2_mae)\n",
    "\n",
    "regressor_mae = Model(inputs=inputs_1_mae, outputs = output_1_mae)\n",
    "\n",
    "regressor_mae.compile(optimizer='adam', loss = 'mae')\n",
    "regressor_mae.summary()"
   ]
  },
  {
   "cell_type": "code",
   "execution_count": 22,
   "metadata": {},
   "outputs": [],
   "source": [
    "#This is a workaround to limit resource consumption in IBM watson free tier\n",
    "from keras import backend as K\n",
    "\n",
    "K.set_session(K.tf.Session(config=K.tf.ConfigProto(intra_op_parallelism_threads=1, inter_op_parallelism_threads=1)))"
   ]
  },
  {
   "cell_type": "markdown",
   "metadata": {},
   "source": [
    "#### how paramter is computed for LSTM\n",
    "<br>\n",
    "paramters = 4 x LSTM output size x (weight_input_size + weights LSTM outputs size + 1 ) i.e. 1 for bias\n"
   ]
  },
  {
   "cell_type": "code",
   "execution_count": 24,
   "metadata": {},
   "outputs": [
    {
     "name": "stdout",
     "output_type": "stream",
     "text": [
      "480\n"
     ]
    }
   ],
   "source": [
    "# 1st LSTM Layer\n",
    "parameters = 4 * 10 * (1 + 10 + 1)\n",
    "print(parameters)"
   ]
  },
  {
   "cell_type": "code",
   "execution_count": 27,
   "metadata": {},
   "outputs": [
    {
     "name": "stdout",
     "output_type": "stream",
     "text": [
      "Epoch: 0\n",
      "Epoch 1/1\n",
      "6976/6976 [==============================] - 4s - loss: 0.0326     \n",
      "Epoch: 1\n",
      "Epoch 1/1\n",
      "6976/6976 [==============================] - 4s - loss: 0.0362     \n",
      "Epoch: 2\n",
      "Epoch 1/1\n",
      "6976/6976 [==============================] - 4s - loss: 0.0347     \n",
      "Epoch: 3\n",
      "Epoch 1/1\n",
      "6976/6976 [==============================] - 4s - loss: 0.0359     \n",
      "Epoch: 4\n",
      "Epoch 1/1\n",
      "6976/6976 [==============================] - 4s - loss: 0.0346     \n",
      "Epoch: 5\n",
      "Epoch 1/1\n",
      "6976/6976 [==============================] - 4s - loss: 0.0354     \n",
      "Epoch: 6\n",
      "Epoch 1/1\n",
      "6976/6976 [==============================] - 4s - loss: 0.0342     \n",
      "Epoch: 7\n",
      "Epoch 1/1\n",
      "6976/6976 [==============================] - 4s - loss: 0.0350     \n",
      "Epoch: 8\n",
      "Epoch 1/1\n",
      "6976/6976 [==============================] - 4s - loss: 0.0340     \n",
      "Epoch: 9\n",
      "Epoch 1/1\n",
      "6976/6976 [==============================] - 4s - loss: 0.0349     \n",
      "Epoch: 10\n",
      "Epoch 1/1\n",
      "6976/6976 [==============================] - 4s - loss: 0.0337     \n",
      "Epoch: 11\n",
      "Epoch 1/1\n",
      "6976/6976 [==============================] - 4s - loss: 0.0348     \n",
      "Epoch: 12\n",
      "Epoch 1/1\n",
      "6976/6976 [==============================] - 4s - loss: 0.0336     \n",
      "Epoch: 13\n",
      "Epoch 1/1\n",
      "6976/6976 [==============================] - 4s - loss: 0.0345     \n",
      "Epoch: 14\n",
      "Epoch 1/1\n",
      "6976/6976 [==============================] - 4s - loss: 0.0335     \n",
      "Epoch: 15\n",
      "Epoch 1/1\n",
      "6976/6976 [==============================] - 4s - loss: 0.0344     \n",
      "Epoch: 16\n",
      "Epoch 1/1\n",
      "6976/6976 [==============================] - 4s - loss: 0.0333     \n",
      "Epoch: 17\n",
      "Epoch 1/1\n",
      "6976/6976 [==============================] - 4s - loss: 0.0345     \n",
      "Epoch: 18\n",
      "Epoch 1/1\n",
      "6976/6976 [==============================] - 4s - loss: 0.0331     \n",
      "Epoch: 19\n",
      "Epoch 1/1\n",
      "6976/6976 [==============================] - 4s - loss: 0.0344     \n"
     ]
    }
   ],
   "source": [
    "for i in range(epochs):\n",
    "    print(\"Epoch: \" + str(i))\n",
    "    regressor_mae.fit(X_train, y_train, shuffle=False, epochs = 1, batch_size = batch_size)\n",
    "    regressor_mae.reset_states()"
   ]
  },
  {
   "cell_type": "code",
   "execution_count": 29,
   "metadata": {},
   "outputs": [],
   "source": [
    "def get_test_length(dataset, batch_size):\n",
    "    \n",
    "    test_length_values = []\n",
    "    for x in range(len(dataset) - 200, len(dataset) - timesteps*2): \n",
    "        modulo=(x-upper_train)%batch_size\n",
    "        if (modulo == 0):\n",
    "            test_length_values.append(x)\n",
    "            print (x)\n",
    "    return (max(test_length_values))"
   ]
  },
  {
   "cell_type": "code",
   "execution_count": 30,
   "metadata": {},
   "outputs": [
    {
     "name": "stdout",
     "output_type": "stream",
     "text": [
      "7612\n",
      "7676\n",
      "7676\n",
      "640\n"
     ]
    }
   ],
   "source": [
    "test_length = get_test_length(df_data_1, batch_size)\n",
    "print(test_length)\n",
    "upper_test = test_length + timesteps*2\n",
    "testset_length = test_length - upper_train\n",
    "print(testset_length)"
   ]
  },
  {
   "cell_type": "code",
   "execution_count": 31,
   "metadata": {},
   "outputs": [
    {
     "name": "stdout",
     "output_type": "stream",
     "text": [
      "7036 7736 7783\n"
     ]
    }
   ],
   "source": [
    "print(upper_train, upper_test, len(df_data_1))"
   ]
  },
  {
   "cell_type": "code",
   "execution_count": 32,
   "metadata": {},
   "outputs": [],
   "source": [
    "# construct test set\n",
    "#subsetting\n",
    "df_data_1_test = df_data_1[upper_train:upper_test] \n",
    "test_set = df_data_1_test.iloc[:,1:2].values\n",
    "\n",
    "#scaling\n",
    "scaled_real_bcg_values_test = sc.fit_transform(np.float64(test_set))\n",
    "\n",
    "#creating input data\n",
    "X_test = []\n",
    "for i in range(timesteps, testset_length + timesteps):\n",
    "    X_test.append(scaled_real_bcg_values_test[i-timesteps:i, 0])\n",
    "X_test = np.array(X_test)\n",
    "\n",
    "#reshaping\n",
    "X_test = np.reshape(X_test, (X_test.shape[0], X_test.shape[1], 1))"
   ]
  },
  {
   "cell_type": "code",
   "execution_count": 33,
   "metadata": {},
   "outputs": [
    {
     "name": "stdout",
     "output_type": "stream",
     "text": [
      "(640, 30, 1)\n",
      "(640, 30)\n",
      "(610, 1)\n"
     ]
    }
   ],
   "source": [
    "#prediction\n",
    "predicted_bcg_values_test_mae = regressor_mae.predict(X_test, batch_size=batch_size)\n",
    "regressor_mae.reset_states()\n",
    "\n",
    "print(predicted_bcg_values_test_mae.shape)\n",
    "\n",
    "#reshaping\n",
    "predicted_bcg_values_test_mae = np.reshape(predicted_bcg_values_test_mae, \n",
    "                                       (predicted_bcg_values_test_mae.shape[0], \n",
    "                                        predicted_bcg_values_test_mae.shape[1]))\n",
    "\n",
    "print(predicted_bcg_values_test_mae.shape)\n",
    "#inverse transform\n",
    "predicted_bcg_values_test_mae = sc.inverse_transform(predicted_bcg_values_test_mae)\n",
    "\n",
    "#creating y_test data\n",
    "y_test = []\n",
    "for j in range(0, testset_length - timesteps):\n",
    "    y_test = np.append(y_test, predicted_bcg_values_test_mae[j, timesteps-1])\n",
    "\n",
    "# reshaping\n",
    "y_test = np.reshape(y_test, (y_test.shape[0], 1))\n",
    "\n",
    "print(y_test.shape)"
   ]
  },
  {
   "cell_type": "code",
   "execution_count": 34,
   "metadata": {},
   "outputs": [
    {
     "data": {
      "image/png": "[encoded data removed]",
      "text/plain": [
       "<matplotlib.figure.Figure at 0x7f19fa8a2908>"
      ]
     },
     "metadata": {},
     "output_type": "display_data"
    }
   ],
   "source": [
    "# Visualising the results\n",
    "plt.plot(test_set[timesteps:len(y_test)], color = 'red', label = 'Real Crude Oil Prices')\n",
    "plt.plot(y_test[0:len(y_test) - timesteps], color = 'blue', label = 'Predicted Crude Oil Prices')\n",
    "plt.title('Crude Oil Prices Prediction - MAE')\n",
    "plt.xlabel('Time')\n",
    "plt.ylabel('Crude Oil Prices')\n",
    "plt.legend()\n",
    "plt.show()"
   ]
  },
  {
   "cell_type": "code",
   "execution_count": 35,
   "metadata": {},
   "outputs": [
    {
     "name": "stdout",
     "output_type": "stream",
     "text": [
      "3.1279509006080395\n"
     ]
    }
   ],
   "source": [
    "import math\n",
    "from sklearn.metrics import mean_squared_error\n",
    "rmse = math.sqrt(mean_squared_error(test_set[timesteps:len(y_test)], y_test[0:len(y_test) - timesteps]))\n",
    "print(rmse)"
   ]
  },
  {
   "cell_type": "code",
   "execution_count": 36,
   "metadata": {},
   "outputs": [
    {
     "name": "stdout",
     "output_type": "stream",
     "text": [
      "2.641913472011172\n"
     ]
    }
   ],
   "source": [
    "from sklearn.metrics import mean_absolute_error\n",
    "mae = mean_absolute_error(test_set[timesteps:len(y_test)], y_test[0:len(y_test) - timesteps])\n",
    "print(mae)"
   ]
  },
  {
   "cell_type": "code",
   "execution_count": 38,
   "metadata": {},
   "outputs": [],
   "source": [
    "import h5py\n",
    "regressor_mae.save(filepath=\"my_model_with_mae_30_ts.h5\")"
   ]
  },
  {
   "cell_type": "code",
   "execution_count": 45,
   "metadata": {},
   "outputs": [
    {
     "name": "stdout",
     "output_type": "stream",
     "text": [
      "a_m3v3hz_umcr7.log   my_model_with_mae_30_ts.h5  scratch_space\r\n",
      "crude_oil_price.csv  __pycache__\t\t watsoniotp.broken.pickle\r\n",
      "cwr_faulty\t     result_healthy_pandas.csv\t watsoniotp.healthy.pickle\r\n",
      "cwr_healthy\t     rklib.py\r\n"
     ]
    }
   ],
   "source": [
    "!ls "
   ]
  },
  {
   "cell_type": "code",
   "execution_count": null,
   "metadata": {},
   "outputs": [],
   "source": []
  }
 ],
 "metadata": {
  "kernelspec": {
   "display_name": "Python 3",
   "language": "python",
   "name": "python3"
  },
  "language_info": {
   "codemirror_mode": {
    "name": "ipython",
    "version": 3
   },
   "file_extension": ".py",
   "mimetype": "text/x-python",
   "name": "python",
   "nbconvert_exporter": "python",
   "pygments_lexer": "ipython3",
   "version": "3.6.5"
  }
 },
 "nbformat": 4,
 "nbformat_minor": 1
}
